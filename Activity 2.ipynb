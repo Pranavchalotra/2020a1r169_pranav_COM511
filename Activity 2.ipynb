{
 "cells": [
  {
   "cell_type": "markdown",
   "id": "b9ae79c9",
   "metadata": {},
   "source": [
    "# using for loop"
   ]
  },
  {
   "cell_type": "code",
   "execution_count": 1,
   "id": "0a443f23",
   "metadata": {},
   "outputs": [
    {
     "name": "stdout",
     "output_type": "stream",
     "text": [
      "1\n",
      "2\n",
      "3\n",
      "4\n",
      "5\n"
     ]
    }
   ],
   "source": [
    "list=[1,2,3,4,5]\n",
    "for i in list:\n",
    " print(i)"
   ]
  },
  {
   "cell_type": "markdown",
   "id": "d391310c",
   "metadata": {},
   "source": [
    "# for loop and range "
   ]
  },
  {
   "cell_type": "code",
   "execution_count": 2,
   "id": "1e5be2b3",
   "metadata": {},
   "outputs": [
    {
     "name": "stdout",
     "output_type": "stream",
     "text": [
      "1\n",
      "4\n",
      "3\n",
      "9\n",
      "5\n"
     ]
    }
   ],
   "source": [
    "list = [1,4,3,9,5]\n",
    "length=len(list)\n",
    "for i in range(length):\n",
    " print(list[i])"
   ]
  },
  {
   "cell_type": "markdown",
   "id": "bba690f9",
   "metadata": {},
   "source": [
    "# using while loop"
   ]
  },
  {
   "cell_type": "code",
   "execution_count": 4,
   "id": "24869734",
   "metadata": {},
   "outputs": [
    {
     "name": "stdout",
     "output_type": "stream",
     "text": [
      "1\n",
      "3\n",
      "5\n",
      "7\n",
      "9\n"
     ]
    }
   ],
   "source": [
    "list=[1,3,5,7,9]\n",
    "length=len(list)\n",
    "i=0\n",
    "while i<length:\n",
    " print(list[i])\n",
    " i += 1"
   ]
  },
  {
   "cell_type": "markdown",
   "id": "00f0f0d9",
   "metadata": {},
   "source": [
    "# using list comprehension "
   ]
  },
  {
   "cell_type": "code",
   "execution_count": 5,
   "id": "db65905c",
   "metadata": {},
   "outputs": [
    {
     "name": "stdout",
     "output_type": "stream",
     "text": [
      "1\n",
      "3\n",
      "5\n",
      "7\n",
      "9\n"
     ]
    },
    {
     "data": {
      "text/plain": [
       "[None, None, None, None, None]"
      ]
     },
     "execution_count": 5,
     "metadata": {},
     "output_type": "execute_result"
    }
   ],
   "source": [
    "list=[1,3,5,7,9]\n",
    "[print(i) for i in list]"
   ]
  },
  {
   "cell_type": "markdown",
   "id": "71ec3eb8",
   "metadata": {},
   "source": [
    "# dictonary "
   ]
  },
  {
   "cell_type": "markdown",
   "id": "35948ab2",
   "metadata": {},
   "source": [
    "## example 1 : access key using the build.key()"
   ]
  },
  {
   "cell_type": "code",
   "execution_count": 6,
   "id": "e23d1781",
   "metadata": {},
   "outputs": [
    {
     "name": "stdout",
     "output_type": "stream",
     "text": [
      "dict_keys(['Gujarat', 'Maharashtra', 'Rajasthan', 'Bihar'])\n"
     ]
    }
   ],
   "source": [
    "statesAndCapitals = {\n",
    " 'Gujarat': 'Gandinagar',\n",
    " 'Maharashtra': 'Mumbai',\n",
    " 'Rajasthan': 'Jaipur',\n",
    " 'Bihar': 'Patna'\n",
    "}\n",
    "keys = statesAndCapitals.keys()\n",
    "print(keys)"
   ]
  },
  {
   "cell_type": "markdown",
   "id": "6f1c7ba6",
   "metadata": {},
   "source": [
    "## Example 2: Access key without using a key()"
   ]
  },
  {
   "cell_type": "code",
   "execution_count": 7,
   "id": "a99c1e25",
   "metadata": {},
   "outputs": [
    {
     "name": "stdout",
     "output_type": "stream",
     "text": [
      "List of given states:\n",
      "\n",
      "Gujarat\n",
      "Maharashtra\n",
      "Rajasthan\n",
      "Bihar\n"
     ]
    }
   ],
   "source": [
    "statesAndCapitals = {\n",
    " 'Gujarat': 'Gandinagar',\n",
    " 'Maharashtra': 'Mumbai',\n",
    " 'Rajasthan': 'Jaipur',\n",
    " 'Bihar': 'Patna'\n",
    "}\n",
    "print('List of given states:\\n')\n",
    "for state in statesAndCapitals:\n",
    " print(state)"
   ]
  },
  {
   "cell_type": "markdown",
   "id": "5248d875",
   "metadata": {},
   "source": [
    "## Example 3: Iterate through all values using .values()"
   ]
  },
  {
   "cell_type": "code",
   "execution_count": 9,
   "id": "8a356f42",
   "metadata": {},
   "outputs": [
    {
     "name": "stdout",
     "output_type": "stream",
     "text": [
      "List of given capitals:\n",
      "\n",
      "Gujarat\n",
      "Maharashtra\n",
      "Rajasthan\n",
      "Bihar\n"
     ]
    }
   ],
   "source": [
    "statesAndCapitals = {\n",
    " 'Gujarat': 'Gandinagar',\n",
    " 'Maharashtra': 'Mumbai',\n",
    " 'Rajasthan': 'Jaipur',\n",
    " 'Bihar': 'Patna'\n",
    "}\n",
    "print('List of given capitals:\\n')\n",
    "for capital in statesAndCapitals:\n",
    " print(capital)"
   ]
  },
  {
   "cell_type": "markdown",
   "id": "ab6e9298",
   "metadata": {},
   "source": [
    "### Example 4: Iterate through all key, and value pairs using items()\n"
   ]
  },
  {
   "cell_type": "code",
   "execution_count": 11,
   "id": "20d0b25a",
   "metadata": {},
   "outputs": [
    {
     "name": "stdout",
     "output_type": "stream",
     "text": [
      "List of given states adn their capitals:\n",
      "\n",
      "Gujarat : Gandinagar\n",
      "Maharashtra : Mumbai\n",
      "Rajasthan : Jaipur\n",
      "Bihar : Patna\n"
     ]
    }
   ],
   "source": [
    "statesAndCapitals = {\n",
    " 'Gujarat': 'Gandinagar',\n",
    " 'Maharashtra': 'Mumbai',\n",
    " 'Rajasthan': 'Jaipur',\n",
    " 'Bihar': 'Patna'\n",
    "}\n",
    "print('List of given states adn their capitals:\\n')\n",
    "for state, capital in statesAndCapitals.items():\n",
    " print(state,':',capital)\n"
   ]
  },
  {
   "cell_type": "markdown",
   "id": "0ef9563f",
   "metadata": {},
   "source": [
    "###  Example 5: Access both key and value without using items()\n"
   ]
  },
  {
   "cell_type": "code",
   "execution_count": 12,
   "id": "ab3830b5",
   "metadata": {},
   "outputs": [
    {
     "name": "stdout",
     "output_type": "stream",
     "text": [
      "Gujarat -> Gandinagar\n",
      "Maharashtra -> Mumbai\n",
      "Rajasthan -> Jaipur\n",
      "Bihar -> Patna\n"
     ]
    }
   ],
   "source": [
    "statesAndCapitals = {\n",
    " 'Gujarat': 'Gandinagar',\n",
    " 'Maharashtra': 'Mumbai',\n",
    " 'Rajasthan': 'Jaipur',\n",
    " 'Bihar': 'Patna'\n",
    "}\n",
    "for i in statesAndCapitals:\n",
    " print(i,'->',statesAndCapitals[i])\n"
   ]
  },
  {
   "cell_type": "markdown",
   "id": "abf18809",
   "metadata": {},
   "source": [
    "## Example 6: Print items in Key-Value in pair\n"
   ]
  },
  {
   "cell_type": "code",
   "execution_count": 13,
   "id": "c28abec5",
   "metadata": {},
   "outputs": [
    {
     "name": "stdout",
     "output_type": "stream",
     "text": [
      "dict_items([('Gujarat', 'Gandinagar'), ('Maharashtra', 'Mumbai'), ('Rajasthan', 'Jaipur'), ('Bihar', 'Patna')])\n"
     ]
    }
   ],
   "source": [
    "statesAndCapitals = {\n",
    " 'Gujarat': 'Gandinagar',\n",
    " 'Maharashtra': 'Mumbai',\n",
    " 'Rajasthan': 'Jaipur',\n",
    " 'Bihar': 'Patna'\n",
    "}\n",
    "keys = statesAndCapitals.items()\n",
    "print(keys)"
   ]
  },
  {
   "cell_type": "code",
   "execution_count": null,
   "id": "38e2445b",
   "metadata": {},
   "outputs": [],
   "source": []
  }
 ],
 "metadata": {
  "kernelspec": {
   "display_name": "Python 3 (ipykernel)",
   "language": "python",
   "name": "python3"
  },
  "language_info": {
   "codemirror_mode": {
    "name": "ipython",
    "version": 3
   },
   "file_extension": ".py",
   "mimetype": "text/x-python",
   "name": "python",
   "nbconvert_exporter": "python",
   "pygments_lexer": "ipython3",
   "version": "3.9.12"
  }
 },
 "nbformat": 4,
 "nbformat_minor": 5
}
