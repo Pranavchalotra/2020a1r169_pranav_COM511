{
 "cells": [
  {
   "cell_type": "markdown",
   "id": "43331a55",
   "metadata": {},
   "source": [
    "## python number "
   ]
  },
  {
   "cell_type": "code",
   "execution_count": 1,
   "id": "27db82f8",
   "metadata": {},
   "outputs": [
    {
     "name": "stdout",
     "output_type": "stream",
     "text": [
      "5 is of type <class 'int'>\n",
      "2.0 is of type <class 'float'>\n",
      "(1+2j) is complex number? True\n"
     ]
    }
   ],
   "source": [
    "a=5\n",
    "print(a,\"is of type\", type(a))\n",
    "a=2.0\n",
    "print(a, \"is of type\", type(a))\n",
    "a=1+2j\n",
    "print(a,\"is complex number?\", isinstance(1+2j,complex))"
   ]
  },
  {
   "cell_type": "markdown",
   "id": "3fd4108f",
   "metadata": {},
   "source": [
    "# python list "
   ]
  },
  {
   "cell_type": "code",
   "execution_count": 2,
   "id": "c54e50c1",
   "metadata": {},
   "outputs": [
    {
     "name": "stdout",
     "output_type": "stream",
     "text": [
      "a[2] = 15\n",
      "a[0:3]= [5, 10, 15]\n",
      "a[5:]= [30, 35, 100]\n"
     ]
    }
   ],
   "source": [
    "a=[5,10,15,20,25,30,35,40]\n",
    "print(\"a[2] =\", a[2])\n",
    "print(\"a[0:3]=\", a[0:3])\n",
    "a[7]=100\n",
    "print(\"a[5:]=\", a[5:])"
   ]
  },
  {
   "cell_type": "markdown",
   "id": "71895d65",
   "metadata": {},
   "source": [
    "# python tuple "
   ]
  },
  {
   "cell_type": "code",
   "execution_count": 4,
   "id": "a2cdad06",
   "metadata": {},
   "outputs": [
    {
     "name": "stdout",
     "output_type": "stream",
     "text": [
      "t[1] 5\n",
      "t[0:3] (10, 5, 20)\n"
     ]
    }
   ],
   "source": [
    "t=(10,5,20)\n",
    "print(\"t[1]\", t[1])\n",
    "print(\"t[0:3]\", t[0:3])"
   ]
  },
  {
   "cell_type": "markdown",
   "id": "828a2ca3",
   "metadata": {},
   "source": [
    "# python string "
   ]
  },
  {
   "cell_type": "code",
   "execution_count": 5,
   "id": "83f95815",
   "metadata": {},
   "outputs": [
    {
     "name": "stdout",
     "output_type": "stream",
     "text": [
      "This is a string\n",
      "A multiline\n",
      "string\n"
     ]
    }
   ],
   "source": [
    "s=\"This is a string\"\n",
    "print(s)\n",
    "s=\"\"\"A multiline\n",
    "string\"\"\"\n",
    "print(s)\n"
   ]
  },
  {
   "cell_type": "code",
   "execution_count": 6,
   "id": "961bed8e",
   "metadata": {},
   "outputs": [
    {
     "name": "stdout",
     "output_type": "stream",
     "text": [
      "s[4] = o\n",
      "s[6:11] = world\n"
     ]
    }
   ],
   "source": [
    "s='hello world!'\n",
    "print(\"s[4] =\",s[4])\n",
    "print(\"s[6:11] =\",s[6:11])"
   ]
  },
  {
   "cell_type": "markdown",
   "id": "c7880dbf",
   "metadata": {},
   "source": [
    "# python set "
   ]
  },
  {
   "cell_type": "code",
   "execution_count": 7,
   "id": "545c72ae",
   "metadata": {},
   "outputs": [
    {
     "name": "stdout",
     "output_type": "stream",
     "text": [
      "a = {1, 2, 3, 4, 5}\n",
      "<class 'set'>\n"
     ]
    }
   ],
   "source": [
    "a={5,1,2,3,4}\n",
    "print(\"a =\",a)\n",
    "print(type(a))"
   ]
  },
  {
   "cell_type": "code",
   "execution_count": 8,
   "id": "7b60f5f5",
   "metadata": {},
   "outputs": [
    {
     "name": "stdout",
     "output_type": "stream",
     "text": [
      "a = {1, 2, 3, 4}\n"
     ]
    }
   ],
   "source": [
    "a={1,1,2,4,2,2,3,3,3}\n",
    "print(\"a =\",a)"
   ]
  },
  {
   "cell_type": "markdown",
   "id": "71420d36",
   "metadata": {},
   "source": [
    "#  python dictonary "
   ]
  },
  {
   "cell_type": "code",
   "execution_count": 9,
   "id": "e6d44d3c",
   "metadata": {},
   "outputs": [
    {
     "name": "stdout",
     "output_type": "stream",
     "text": [
      "<class 'dict'>\n",
      "d[1] = value\n",
      "d['key'] = 2\n",
      "d[10] = lock\n"
     ]
    }
   ],
   "source": [
    "d={1:'value','key':2, 10:'lock'}\n",
    "print(type(d))\n",
    "print(\"d[1] =\",d[1])\n",
    "print(\"d['key'] =\",d['key'])\n",
    "print(\"d[10] =\",d[10])"
   ]
  },
  {
   "cell_type": "markdown",
   "id": "74298b84",
   "metadata": {},
   "source": [
    "# conversion between data type "
   ]
  },
  {
   "cell_type": "code",
   "execution_count": 10,
   "id": "f9b6c099",
   "metadata": {},
   "outputs": [
    {
     "data": {
      "text/plain": [
       "5.0"
      ]
     },
     "execution_count": 10,
     "metadata": {},
     "output_type": "execute_result"
    }
   ],
   "source": [
    "float (5)"
   ]
  },
  {
   "cell_type": "code",
   "execution_count": 11,
   "id": "da33324d",
   "metadata": {},
   "outputs": [
    {
     "data": {
      "text/plain": [
       "2.5"
      ]
     },
     "execution_count": 11,
     "metadata": {},
     "output_type": "execute_result"
    }
   ],
   "source": [
    "float ('2.5')"
   ]
  },
  {
   "cell_type": "code",
   "execution_count": 12,
   "id": "4ecebff8",
   "metadata": {},
   "outputs": [
    {
     "data": {
      "text/plain": [
       "'26'"
      ]
     },
     "execution_count": 12,
     "metadata": {},
     "output_type": "execute_result"
    }
   ],
   "source": [
    "str (26)"
   ]
  },
  {
   "cell_type": "code",
   "execution_count": 13,
   "id": "673f4918",
   "metadata": {},
   "outputs": [
    {
     "data": {
      "text/plain": [
       "10"
      ]
     },
     "execution_count": 13,
     "metadata": {},
     "output_type": "execute_result"
    }
   ],
   "source": [
    "int (10.7)"
   ]
  },
  {
   "cell_type": "code",
   "execution_count": 14,
   "id": "5980f98e",
   "metadata": {},
   "outputs": [
    {
     "data": {
      "text/plain": [
       "-6"
      ]
     },
     "execution_count": 14,
     "metadata": {},
     "output_type": "execute_result"
    }
   ],
   "source": [
    "int (-6.7)"
   ]
  },
  {
   "cell_type": "code",
   "execution_count": 15,
   "id": "1743fcf8",
   "metadata": {},
   "outputs": [
    {
     "data": {
      "text/plain": [
       "{1, 2, 3}"
      ]
     },
     "execution_count": 15,
     "metadata": {},
     "output_type": "execute_result"
    }
   ],
   "source": [
    "set ([1,2,3])"
   ]
  },
  {
   "cell_type": "code",
   "execution_count": 16,
   "id": "e12904b3",
   "metadata": {},
   "outputs": [
    {
     "data": {
      "text/plain": [
       "(2, 3, 5)"
      ]
     },
     "execution_count": 16,
     "metadata": {},
     "output_type": "execute_result"
    }
   ],
   "source": [
    "tuple ( {3,2,5})"
   ]
  },
  {
   "cell_type": "code",
   "execution_count": 17,
   "id": "fa0f05d7",
   "metadata": {},
   "outputs": [
    {
     "data": {
      "text/plain": [
       "['h', 'e', 'l', 'l', 'o']"
      ]
     },
     "execution_count": 17,
     "metadata": {},
     "output_type": "execute_result"
    }
   ],
   "source": [
    "list ('hello')"
   ]
  },
  {
   "cell_type": "code",
   "execution_count": 18,
   "id": "3e84239a",
   "metadata": {},
   "outputs": [
    {
     "data": {
      "text/plain": [
       "{1: 2, 2: 3}"
      ]
     },
     "execution_count": 18,
     "metadata": {},
     "output_type": "execute_result"
    }
   ],
   "source": [
    "dict ([[1,2],[2,3,]])"
   ]
  },
  {
   "cell_type": "code",
   "execution_count": 21,
   "id": "89a2bc75",
   "metadata": {},
   "outputs": [
    {
     "data": {
      "text/plain": [
       "{2: 0, 10: 22}"
      ]
     },
     "execution_count": 21,
     "metadata": {},
     "output_type": "execute_result"
    }
   ],
   "source": [
    "dict([(2,0), (10,22)])"
   ]
  },
  {
   "cell_type": "markdown",
   "id": "b5adc451",
   "metadata": {},
   "source": [
    "# dynamic typing "
   ]
  },
  {
   "cell_type": "code",
   "execution_count": 22,
   "id": "6d216351",
   "metadata": {},
   "outputs": [
    {
     "name": "stdout",
     "output_type": "stream",
     "text": [
      "<class 'str'>\n",
      "<class 'float'>\n"
     ]
    }
   ],
   "source": [
    "things=\"Hello\"\n",
    "print(type(things))\n",
    "things=28.1\n",
    "print(type(things))"
   ]
  },
  {
   "cell_type": "markdown",
   "id": "847b562f",
   "metadata": {},
   "source": [
    "# built-in function "
   ]
  },
  {
   "cell_type": "markdown",
   "id": "654030db",
   "metadata": {},
   "source": [
    "##1. abs ()"
   ]
  },
  {
   "cell_type": "code",
   "execution_count": 23,
   "id": "78c832d2",
   "metadata": {},
   "outputs": [
    {
     "name": "stdout",
     "output_type": "stream",
     "text": [
      "20\n"
     ]
    }
   ],
   "source": [
    "number = -20\n",
    "absolute_number = abs(number)\n",
    "print(absolute_number)"
   ]
  },
  {
   "cell_type": "code",
   "execution_count": 24,
   "id": "7ec0b4d5",
   "metadata": {},
   "outputs": [
    {
     "name": "stdout",
     "output_type": "stream",
     "text": [
      "Absolute value of integer = 23\n",
      "Absolute value of float = 20.3\n"
     ]
    }
   ],
   "source": [
    "integer=-23\n",
    "print(\"Absolute value of integer =\",abs(integer))\n",
    "floating=-20.3\n",
    "print(\"Absolute value of float =\",abs(floating))"
   ]
  },
  {
   "cell_type": "markdown",
   "id": "4a9ad892",
   "metadata": {},
   "source": [
    "# 2.lens ()"
   ]
  },
  {
   "cell_type": "code",
   "execution_count": 25,
   "id": "35427f85",
   "metadata": {},
   "outputs": [
    {
     "name": "stdout",
     "output_type": "stream",
     "text": [
      "3\n",
      "[] length is  0\n",
      "[1, 2, 3, 4] length is 4\n",
      "(1, 2, 3) length is 3\n",
      "range(1, 10) length is 9\n"
     ]
    }
   ],
   "source": [
    "languages=['Python','c','java']\n",
    "print(len(languages))\n",
    "testlist=[]\n",
    "print(testlist, 'length is ' ,len(testlist))\n",
    "testlist=[1,2,3,4]\n",
    "print(testlist, 'length is',len(testlist))\n",
    "testtuple = (1,2,3)\n",
    "print(testtuple, 'length is',len(testtuple))\n",
    "testrange=range(1,10)\n",
    "print(testrange, 'length is', len(testrange))"
   ]
  },
  {
   "cell_type": "code",
   "execution_count": 26,
   "id": "071628ff",
   "metadata": {},
   "outputs": [
    {
     "name": "stdout",
     "output_type": "stream",
     "text": [
      "length of  is 0\n",
      "length of Python is 6\n",
      "length of b'Python' is 6\n",
      "length of b'\\x01\\x02\\x03\\x02' is 4\n"
     ]
    }
   ],
   "source": [
    "teststring=''\n",
    "print('length of', teststring , 'is', len(teststring))\n",
    "teststring='Python'\n",
    "print('length of', teststring, 'is', len(teststring))\n",
    "testbyte=b'Python'\n",
    "print('length of', testbyte, 'is', len(testbyte))\n",
    "testlist=[1,2,3,2]\n",
    "testbyte=bytes(testlist)\n",
    "print('length of', testbyte, 'is', len(testbyte))"
   ]
  },
  {
   "cell_type": "code",
   "execution_count": 27,
   "id": "b743569e",
   "metadata": {},
   "outputs": [
    {
     "name": "stdout",
     "output_type": "stream",
     "text": [
      "{1, 2, 3} length is 3\n",
      "set() length is 0\n",
      "{1: 'abc', 'cde': 2} length of 2\n",
      "{} length of 0\n",
      "frozenset({1, 2}) length is 2\n"
     ]
    }
   ],
   "source": [
    "testset={1,2,3}\n",
    "print(testset, 'length is', len(testset))\n",
    "testset=set()\n",
    "print(testset, 'length is', len(testset))\n",
    "testdict={1:'abc','cde':2}\n",
    "print(testdict, 'length of', len(testdict))\n",
    "testdict={}\n",
    "print(testdict, 'length of', len(testdict))\n",
    "testset={1,2}\n",
    "frozentestset = frozenset(testset)\n",
    "print(frozentestset, 'length is', len(frozentestset))"
   ]
  },
  {
   "cell_type": "markdown",
   "id": "1556772c",
   "metadata": {},
   "source": [
    "# 3.min ()"
   ]
  },
  {
   "cell_type": "code",
   "execution_count": 28,
   "id": "c86a7843",
   "metadata": {},
   "outputs": [
    {
     "name": "stdout",
     "output_type": "stream",
     "text": [
      "-12\n",
      "The smallest number is 1\n"
     ]
    }
   ],
   "source": [
    "number = [9,10,20,30,-12]\n",
    "min_number=(min(number))\n",
    "print(min_number)\n",
    "number=[2,1,3,4,8,10]\n",
    "print(\"The smallest number is\", min(number))"
   ]
  },
  {
   "cell_type": "markdown",
   "id": "26bdb841",
   "metadata": {},
   "source": [
    "# 4.round ()"
   ]
  },
  {
   "cell_type": "code",
   "execution_count": 29,
   "id": "b1ec4c96",
   "metadata": {},
   "outputs": [
    {
     "name": "stdout",
     "output_type": "stream",
     "text": [
      "13\n",
      "51\n",
      "52\n",
      "52\n"
     ]
    }
   ],
   "source": [
    "print(round(13))\n",
    "print(round(51.2))\n",
    "print(round(51.5))\n",
    "print(round(51.7))"
   ]
  },
  {
   "cell_type": "code",
   "execution_count": 30,
   "id": "5377b5e4",
   "metadata": {},
   "outputs": [
    {
     "name": "stdout",
     "output_type": "stream",
     "text": [
      "20.67\n",
      "2.68\n",
      "2.7\n"
     ]
    }
   ],
   "source": [
    "print(round(20.667,2))\n",
    "print(round(2.676,2))\n",
    "print(round(2.673,1))"
   ]
  },
  {
   "cell_type": "markdown",
   "id": "28e7899d",
   "metadata": {},
   "source": [
    "# 5.isalnum()"
   ]
  },
  {
   "cell_type": "code",
   "execution_count": 31,
   "id": "c1379b0d",
   "metadata": {},
   "outputs": [
    {
     "name": "stdout",
     "output_type": "stream",
     "text": [
      "True\n",
      "False\n"
     ]
    }
   ],
   "source": [
    "name1=\"Python3\"\n",
    "print(name1.isalnum())\n",
    "name2=\"Python 3\"\n",
    "print(name2.isalnum())"
   ]
  },
  {
   "cell_type": "code",
   "execution_count": 32,
   "id": "1e475730",
   "metadata": {},
   "outputs": [
    {
     "name": "stdout",
     "output_type": "stream",
     "text": [
      "True\n",
      "False\n",
      "False\n",
      "False\n"
     ]
    }
   ],
   "source": [
    "string1=\"M234onica\"\n",
    "print(string1.isalnum())\n",
    "string2=\"m3onica gell22er\"\n",
    "print(string2.isalnum())\n",
    "string3=\"@monica!\"\n",
    "print(string3.isalnum())\n",
    "string4=\"whitespace,@,!\"\n",
    "print(string4.isalnum())"
   ]
  },
  {
   "cell_type": "code",
   "execution_count": null,
   "id": "345e7a73",
   "metadata": {},
   "outputs": [],
   "source": [
    "|"
   ]
  }
 ],
 "metadata": {
  "kernelspec": {
   "display_name": "Python 3 (ipykernel)",
   "language": "python",
   "name": "python3"
  },
  "language_info": {
   "codemirror_mode": {
    "name": "ipython",
    "version": 3
   },
   "file_extension": ".py",
   "mimetype": "text/x-python",
   "name": "python",
   "nbconvert_exporter": "python",
   "pygments_lexer": "ipython3",
   "version": "3.9.12"
  }
 },
 "nbformat": 4,
 "nbformat_minor": 5
}
